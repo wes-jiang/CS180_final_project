{
  "cells": [
    {
      "cell_type": "code",
      "execution_count": null,
      "metadata": {
        "colab": {
          "base_uri": "https://localhost:8080/"
        },
        "id": "RBk60C3CazB8",
        "outputId": "a7a9f8f3-95cc-4d71-96a0-902e6008600c"
      },
      "outputs": [
        {
          "name": "stdout",
          "output_type": "stream",
          "text": [
            "Requirement already satisfied: scikit-video in /usr/local/lib/python3.10/dist-packages (1.1.11)\n",
            "Requirement already satisfied: numpy in /usr/local/lib/python3.10/dist-packages (from scikit-video) (1.23.5)\n",
            "Requirement already satisfied: pillow in /usr/local/lib/python3.10/dist-packages (from scikit-video) (9.4.0)\n",
            "Requirement already satisfied: scipy in /usr/local/lib/python3.10/dist-packages (from scikit-video) (1.11.3)\n"
          ]
        }
      ],
      "source": [
        "!pip install scikit-video"
      ]
    },
    {
      "cell_type": "code",
      "execution_count": null,
      "metadata": {
        "colab": {
          "base_uri": "https://localhost:8080/"
        },
        "id": "dT6N2c998Czx",
        "outputId": "13fda274-3d52-49bf-bbf9-193793c2f815"
      },
      "outputs": [
        {
          "name": "stdout",
          "output_type": "stream",
          "text": [
            "Requirement already satisfied: opencv-contrib-python in /usr/local/lib/python3.10/dist-packages (4.8.0.76)\n",
            "Requirement already satisfied: numpy>=1.21.2 in /usr/local/lib/python3.10/dist-packages (from opencv-contrib-python) (1.23.5)\n"
          ]
        }
      ],
      "source": [
        "!pip install opencv-contrib-python"
      ]
    },
    {
      "cell_type": "code",
      "execution_count": null,
      "metadata": {
        "id": "9b4RMDHhal0i"
      },
      "outputs": [],
      "source": [
        "import os\n",
        "import json\n",
        "import numpy as np\n",
        "import matplotlib\n",
        "import matplotlib.pyplot as plt\n",
        "from numpy.linalg import lstsq\n",
        "import skvideo\n",
        "import skvideo.io\n",
        "import skimage.io as skio\n",
        "import tkinter\n",
        "import skimage\n",
        "# matplotlib.use('TkAgg')\n",
        "import cv2"
      ]
    },
    {
      "cell_type": "code",
      "execution_count": null,
      "metadata": {
        "id": "mufRNhxqal0j"
      },
      "outputs": [],
      "source": [
        "#Read in the Video\n",
        "def readVideo(mp4):\n",
        "    vidcap = cv2.VideoCapture(mp4)\n",
        "    success, image = vidcap.read()\n",
        "    if success:\n",
        "        cv2.imwrite(\"first_frame.jpg\", image)\n",
        "    if not os.path.isfile(\"./data.json\"):\n",
        "        frame_0 = plt.imread(\"first_frame.jpg\")\n",
        "        plt.imshow(frame_0)\n",
        "        data = plt.ginput(21 + 35 + 10,timeout=0)\n",
        "        plt.close()\n",
        "\n",
        "        with open('data.json', 'w') as f:\n",
        "            json.dump(data,f)\n",
        "    else:\n",
        "        # read the file\n",
        "        with open('data.json') as f:\n",
        "            points = [tuple(x) for x in json.load(f)]\n",
        "        return points\n",
        "\n",
        "file = \"box.mp4\"\n",
        "json2d = \"./data.json\"\n",
        "first_frame = \"./first_frame.jpg\"\n",
        "\n",
        "def label3dpoints( json2d, imagename):\n",
        "    with open(json2d) as f:\n",
        "            points = [tuple(x) for x in json.load(f)]\n",
        "    img = plt.imread(imagename)\n",
        "    total_tuples = []\n",
        "    if not os.path.isfile(\"./3ddata.json\"):\n",
        "        for j in range(7):\n",
        "            for i in range(6):\n",
        "                total_tuples.append((i, j , 2))\n",
        "\n",
        "        for j in range(6, 0, -1):\n",
        "            total_tuples.append((0, j, 1))\n",
        "\n",
        "        for i in range(6):\n",
        "            total_tuples.append((i, 0, 1))\n",
        "\n",
        "\n",
        "        for j in range(6, 0, -1):\n",
        "            total_tuples.append((0, j, 0))\n",
        "\n",
        "        for i in range(6):\n",
        "            total_tuples.append((i, 0, 0))\n",
        "\n",
        "\n",
        "\n",
        "        for t in total_tuples:\n",
        "            print(t)\n",
        "        with open('3data.json', 'w') as f:\n",
        "            json.dump(str(total_tuples),f)\n",
        "\n",
        "\n",
        "def debug_data(json2d, imgname,  cmd = \"\"):\n",
        "    if cmd == \"json\":\n",
        "        with open(json2d) as f:\n",
        "                points = [tuple(x) for x in json.load(f)]\n",
        "        print(points[25], points[26], points[27])\n",
        "        points.pop(25)\n",
        "        with open('data.json', 'w') as f:\n",
        "                json.dump(points,f)\n",
        "    elif cmd == \"plot_points\":\n",
        "        with open(json2d) as f:\n",
        "            points = [x for x in json.load(f)]\n",
        "        img = plt.imread(imgname)\n",
        "        p = np.array(points)\n",
        "        plt.imshow(img)\n",
        "        plt.scatter(p[:,0], p[:,1],  c='r', s=5)\n",
        "        plt.show()\n",
        "\n",
        "# label3dpoints(json2d, first_frame)\n",
        "\n"
      ]
    },
    {
      "cell_type": "code",
      "execution_count": null,
      "metadata": {
        "colab": {
          "base_uri": "https://localhost:8080/"
        },
        "id": "Pdj7lYOsal0k",
        "outputId": "d1a08a66-3d88-443d-d7df-62c926d8bd2e"
      },
      "outputs": [
        {
          "name": "stdout",
          "output_type": "stream",
          "text": [
            "box.mp4\n"
          ]
        }
      ],
      "source": [
        "#draw bounding boxes\n",
        "file = \"box.mp4\"\n",
        "json2d = \"./data.json\"\n",
        "json3d = \"./3data.json\"\n",
        "first_frame = \"./first_frame.jpg\"\n",
        "def createtrackers(first_frame, json2d, mp4file):\n",
        "  #iterable of frames\n",
        "  print(mp4file)\n",
        "  video = skvideo.io.vread(mp4file)\n",
        "\n",
        "\n",
        "  #initialize bounding boxes for the first frames\n",
        "  with open(json2d) as f:\n",
        "            points2d = np.array([x for x in json.load(f)])\n",
        "  with open(json3d) as g:\n",
        "          points3d = json.load(g)\n",
        "  points3d = eval(points3d)\n",
        "\n",
        "  #citation: https://www.youtube.com/watch?v=5yrwXR9rJ0c\n",
        "  #[1] Draw bounding boxes for each point as [x, y, w, h]\n",
        "  #spec says to draw a bounding box that 8 * 8, lets up to 10\n",
        "  bbox_offset = 30\n",
        "  tracker_list = []\n",
        "  for x,y in points2d:\n",
        "    bbox = (x - bbox_offset/2, y - bbox_offset/2, bbox_offset, bbox_offset)\n",
        "    # tracker = cv2.legacy.TrackerCSRT_create()\n",
        "    # tracker = cv2.legacy.TrackerBoosting_create()\n",
        "    tracker = cv2.legacy.TrackerMedianFlow_create()\n",
        "    tracker_list.append(tracker)\n",
        "    ret = tracker.init(video[0], bbox)\n",
        "\n",
        "  mapframeto3dpoints = {k: [] for k in range(len(video))}\n",
        "  mapframeto2dpoints = {j: [] for j in range(len(video))}\n",
        "  for frame_num in range(len(video)):\n",
        "    frame = video[frame_num]\n",
        "\n",
        "    for tracker_num in range(len(tracker_list)):\n",
        "      found, bbox = tracker_list[tracker_num].update(frame)\n",
        "      if found:\n",
        "        topleft = (int(bbox[0]), int(bbox[1]))\n",
        "        bottomright = (int(bbox[0] + bbox[2]), int(bbox[1] + bbox[3]))\n",
        "        cv2.rectangle(frame, topleft, bottomright, (0,0,255), 3)\n",
        "\n",
        "        width = int(bbox[0] + bbox[2]/2)\n",
        "        height = int(bbox[1] + bbox[3]/2)\n",
        "        mapframeto2dpoints[frame_num].append([width, height])\n",
        "        mapframeto3dpoints[frame_num].append(points3d[tracker_num])\n",
        "\n",
        "\n",
        "    cv2.imwrite(\"video_frames/{}.jpg\".format(frame_num), frame)\n",
        "  return mapframeto2dpoints, mapframeto3dpoints\n",
        "mapframeto2dpoints, mapframeto3dpoints = createtrackers(first_frame, json2d, file)\n",
        "\n"
      ]
    },
    {
      "cell_type": "code",
      "execution_count": null,
      "metadata": {
        "id": "nsDdF18fbjw-"
      },
      "outputs": [],
      "source": [
        "!mkdir video_frames"
      ]
    },
    {
      "cell_type": "code",
      "execution_count": null,
      "metadata": {
        "id": "W4U0SxG_fXlt"
      },
      "outputs": [],
      "source": [
        "!rm -rf video_frames"
      ]
    },
    {
      "cell_type": "code",
      "execution_count": null,
      "metadata": {
        "colab": {
          "base_uri": "https://localhost:8080/"
        },
        "id": "VzSPKe9_6jO_",
        "outputId": "919afc06-496a-4aa7-ce77-8ba452fa1188"
      },
      "outputs": [
        {
          "name": "stdout",
          "output_type": "stream",
          "text": [
            "['./video_frames/0.jpg', './video_frames/1.jpg', './video_frames/2.jpg', './video_frames/3.jpg', './video_frames/4.jpg', './video_frames/5.jpg', './video_frames/6.jpg', './video_frames/7.jpg', './video_frames/8.jpg', './video_frames/9.jpg', './video_frames/10.jpg', './video_frames/11.jpg', './video_frames/12.jpg', './video_frames/13.jpg', './video_frames/14.jpg', './video_frames/15.jpg', './video_frames/16.jpg', './video_frames/17.jpg', './video_frames/18.jpg', './video_frames/19.jpg', './video_frames/20.jpg', './video_frames/21.jpg', './video_frames/22.jpg', './video_frames/23.jpg', './video_frames/24.jpg', './video_frames/25.jpg', './video_frames/26.jpg', './video_frames/27.jpg', './video_frames/28.jpg', './video_frames/29.jpg', './video_frames/30.jpg', './video_frames/31.jpg', './video_frames/32.jpg', './video_frames/33.jpg', './video_frames/34.jpg', './video_frames/35.jpg', './video_frames/36.jpg', './video_frames/37.jpg', './video_frames/38.jpg', './video_frames/39.jpg', './video_frames/40.jpg', './video_frames/41.jpg', './video_frames/42.jpg', './video_frames/43.jpg', './video_frames/44.jpg', './video_frames/45.jpg', './video_frames/46.jpg', './video_frames/47.jpg', './video_frames/48.jpg', './video_frames/49.jpg', './video_frames/50.jpg', './video_frames/51.jpg', './video_frames/52.jpg', './video_frames/53.jpg', './video_frames/54.jpg', './video_frames/55.jpg', './video_frames/56.jpg', './video_frames/57.jpg', './video_frames/58.jpg', './video_frames/59.jpg', './video_frames/60.jpg', './video_frames/61.jpg', './video_frames/62.jpg', './video_frames/63.jpg', './video_frames/64.jpg', './video_frames/65.jpg', './video_frames/66.jpg', './video_frames/67.jpg', './video_frames/68.jpg', './video_frames/69.jpg', './video_frames/70.jpg', './video_frames/71.jpg', './video_frames/72.jpg', './video_frames/73.jpg', './video_frames/74.jpg', './video_frames/75.jpg', './video_frames/76.jpg', './video_frames/77.jpg', './video_frames/78.jpg', './video_frames/79.jpg', './video_frames/80.jpg', './video_frames/81.jpg', './video_frames/82.jpg', './video_frames/83.jpg', './video_frames/84.jpg', './video_frames/85.jpg', './video_frames/86.jpg', './video_frames/87.jpg', './video_frames/88.jpg', './video_frames/89.jpg', './video_frames/90.jpg', './video_frames/91.jpg', './video_frames/92.jpg', './video_frames/93.jpg', './video_frames/94.jpg', './video_frames/95.jpg', './video_frames/96.jpg', './video_frames/97.jpg', './video_frames/98.jpg', './video_frames/99.jpg', './video_frames/100.jpg', './video_frames/101.jpg', './video_frames/102.jpg', './video_frames/103.jpg', './video_frames/104.jpg', './video_frames/105.jpg', './video_frames/106.jpg', './video_frames/107.jpg', './video_frames/108.jpg', './video_frames/109.jpg', './video_frames/110.jpg', './video_frames/111.jpg', './video_frames/112.jpg', './video_frames/113.jpg', './video_frames/114.jpg', './video_frames/115.jpg', './video_frames/116.jpg', './video_frames/117.jpg', './video_frames/118.jpg', './video_frames/119.jpg', './video_frames/120.jpg', './video_frames/121.jpg', './video_frames/122.jpg', './video_frames/123.jpg', './video_frames/124.jpg', './video_frames/125.jpg', './video_frames/126.jpg', './video_frames/127.jpg', './video_frames/128.jpg', './video_frames/129.jpg', './video_frames/130.jpg', './video_frames/131.jpg', './video_frames/132.jpg', './video_frames/133.jpg', './video_frames/134.jpg', './video_frames/135.jpg', './video_frames/136.jpg', './video_frames/137.jpg', './video_frames/138.jpg', './video_frames/139.jpg', './video_frames/140.jpg', './video_frames/141.jpg', './video_frames/142.jpg', './video_frames/143.jpg', './video_frames/144.jpg', './video_frames/145.jpg', './video_frames/146.jpg', './video_frames/147.jpg', './video_frames/148.jpg', './video_frames/149.jpg', './video_frames/150.jpg', './video_frames/151.jpg', './video_frames/152.jpg', './video_frames/153.jpg', './video_frames/154.jpg', './video_frames/155.jpg', './video_frames/156.jpg', './video_frames/157.jpg', './video_frames/158.jpg', './video_frames/159.jpg', './video_frames/160.jpg', './video_frames/161.jpg', './video_frames/162.jpg', './video_frames/163.jpg', './video_frames/164.jpg', './video_frames/165.jpg', './video_frames/166.jpg', './video_frames/167.jpg', './video_frames/168.jpg', './video_frames/169.jpg', './video_frames/170.jpg', './video_frames/171.jpg', './video_frames/172.jpg', './video_frames/173.jpg', './video_frames/174.jpg', './video_frames/175.jpg', './video_frames/176.jpg', './video_frames/177.jpg', './video_frames/178.jpg', './video_frames/179.jpg', './video_frames/180.jpg', './video_frames/181.jpg', './video_frames/182.jpg', './video_frames/183.jpg', './video_frames/184.jpg', './video_frames/185.jpg', './video_frames/186.jpg', './video_frames/187.jpg', './video_frames/188.jpg', './video_frames/189.jpg', './video_frames/190.jpg', './video_frames/191.jpg', './video_frames/192.jpg', './video_frames/193.jpg', './video_frames/194.jpg', './video_frames/195.jpg', './video_frames/196.jpg', './video_frames/197.jpg', './video_frames/198.jpg', './video_frames/199.jpg', './video_frames/200.jpg', './video_frames/201.jpg', './video_frames/202.jpg', './video_frames/203.jpg', './video_frames/204.jpg', './video_frames/205.jpg', './video_frames/206.jpg', './video_frames/207.jpg', './video_frames/208.jpg', './video_frames/209.jpg', './video_frames/210.jpg', './video_frames/211.jpg', './video_frames/212.jpg', './video_frames/213.jpg', './video_frames/214.jpg', './video_frames/215.jpg', './video_frames/216.jpg', './video_frames/217.jpg', './video_frames/218.jpg', './video_frames/219.jpg', './video_frames/220.jpg', './video_frames/221.jpg', './video_frames/222.jpg', './video_frames/223.jpg', './video_frames/224.jpg', './video_frames/225.jpg', './video_frames/226.jpg', './video_frames/227.jpg', './video_frames/228.jpg', './video_frames/229.jpg', './video_frames/230.jpg', './video_frames/231.jpg', './video_frames/232.jpg', './video_frames/233.jpg', './video_frames/234.jpg', './video_frames/235.jpg', './video_frames/236.jpg', './video_frames/237.jpg', './video_frames/238.jpg', './video_frames/239.jpg', './video_frames/240.jpg', './video_frames/241.jpg', './video_frames/242.jpg']\n"
          ]
        }
      ],
      "source": [
        "def createVideo(directory, num_frames):\n",
        "  filename_list = []\n",
        "  video_name = './video_frames/final_video.mp4'\n",
        "\n",
        "  for file_num in range(0, num_frames + 1):\n",
        "    filename_list.append(\"./video_frames/{num}.jpg\".format(num = file_num))\n",
        "\n",
        "  frame = cv2.imread('./video_frames/1.jpg')\n",
        "\n",
        "  # setting the frame width, height width\n",
        "  # the width, height of first image\n",
        "  height, width, layers = frame.shape\n",
        "\n",
        "  img_list = []\n",
        "\n",
        "  print(filename_list)\n",
        "  for f in filename_list:\n",
        "    img = skio.imread(f)\n",
        "    img_list.append(img)\n",
        "\n",
        "  out = cv2.VideoWriter('flow.avi',cv2.VideoWriter_fourcc(*'DIVX'), 15, (width, height))\n",
        "\n",
        "  for i in range(len(img_list)):\n",
        "    out.write(img_list[i])\n",
        "  out.release()\n",
        "\n",
        "createVideo(os.listdir(\"./video_frames\"), 242)"
      ]
    },
    {
      "cell_type": "code",
      "execution_count": null,
      "metadata": {
        "id": "xgnMpdgZpcAE"
      },
      "outputs": [],
      "source": [
        "video = skvideo.io.vread(file)"
      ]
    },
    {
      "cell_type": "code",
      "execution_count": null,
      "metadata": {
        "colab": {
          "base_uri": "https://localhost:8080/"
        },
        "id": "AIyx3fAqTR9M",
        "outputId": "6e4320fc-3b47-47a3-c4f1-4feac469f5dc"
      },
      "outputs": [
        {
          "name": "stderr",
          "output_type": "stream",
          "text": [
            "<ipython-input-26-a9a6102cbcec>:3: DeprecationWarning: `np.int` is a deprecated alias for the builtin `int`. To silence this warning, use `int` by itself. Doing this will not modify any behavior and is safe. When replacing `np.int`, you may wish to use e.g. `np.int64` or `np.int32` to specify the precision. If you wish to review your current use, check the release note link for additional information.\n",
            "Deprecated in NumPy 1.20; for more details and guidance: https://numpy.org/devdocs/release/1.20.0-notes.html#deprecations\n",
            "  imgpts = imgpts[:, :2].astype(np.int)\n"
          ]
        }
      ],
      "source": [
        "#Citation: https://docs.opencv.org/3.4/d7/d53/tutorial_py_pose.html\n",
        "def draw(img, imgpts):\n",
        "    imgpts = imgpts[:, :2].astype(np.int)\n",
        "    # draw ground floor in green\n",
        "    img = cv2.drawContours(img, [imgpts[:4]],-1,(0,255,0),-3)\n",
        "    # draw pillars in blue color\n",
        "    for i,j in zip(range(4),range(4,8)):\n",
        "        img = cv2.line(img, tuple(imgpts[i]), tuple(imgpts[j]),(255),3)\n",
        "    # draw top layer in red color\n",
        "    img = cv2.drawContours(img, [imgpts[4:]],-1,(0,0,255),3)\n",
        "    return img\n",
        "\n",
        "\n",
        "\n",
        "def createCubeVideo(video, mapframeto2dpoints, mapframeto3dpoints, debug = False):\n",
        "  img_list = []\n",
        "  frame1 = np.array(video[0])\n",
        "  height, width, layers = frame1.shape\n",
        "  out = cv2.VideoWriter('project_cube.avi',cv2.VideoWriter_fourcc(*'DIVX'), 15, (width, height))\n",
        "  cubecorners = np.array([[2,2,2,1], [2,3,2,1], [3,3,2,1], [3,2,2,1],\n",
        "                          [2,2,3,1],[2,3,3,1],[3,3,3,1],[3,2,3,1]]).T\n",
        "  for frame_index in range(len(video)):\n",
        "    #get the\n",
        "    frame = video[frame_index]\n",
        "    points2d = np.array(mapframeto2dpoints[frame_index])\n",
        "    points3d = np.array(mapframeto3dpoints[frame_index])\n",
        "\n",
        "    points2d = np.hstack((points2d, np.ones((points2d.shape[0], 1))))\n",
        "    points3d = np.hstack((points3d, np.ones((points3d.shape[0], 1))))\n",
        "\n",
        "    projection_matrix = lstsq(points3d, points2d, rcond=None)[0]\n",
        "\n",
        "    if debug:\n",
        "      print(\"POINTS2D SHAPE\")\n",
        "      print(points2d.shape)\n",
        "\n",
        "      print(\"POINTS3D SHAPE\")\n",
        "      print(points3d.shape)\n",
        "\n",
        "      print(\"POINTS MATRIX SHAPEb\")\n",
        "      print(projection_matrix.shape)\n",
        "\n",
        "\n",
        "    image_coords = np.matmul(projection_matrix.T, cubecorners)\n",
        "    image_coords /= image_coords[2]\n",
        "\n",
        "    boxed_image = draw(frame, image_coords.T)\n",
        "\n",
        "    img = np.array(boxed_image)\n",
        "    img_list.append(img)\n",
        "\n",
        "    if debug:\n",
        "       print(boxed_image.shape)\n",
        "       print(image_coords.shape)\n",
        "\n",
        "  for i in range(len(img_list)):\n",
        "    frame = cv2.cvtColor(img_list[i], cv2.COLOR_BGR2RGB)\n",
        "    out.write(frame)\n",
        "  out.release()\n",
        "\n",
        "\n",
        "\n",
        "\n",
        "\n",
        "createCubeVideo(video, mapframeto2dpoints, mapframeto3dpoints)\n"
      ]
    },
    {
      "cell_type": "code",
      "execution_count": null,
      "metadata": {
        "id": "QUM5hWwimjpN"
      },
      "outputs": [],
      "source": [
        "!mkdir cube_frame"
      ]
    },
    {
      "cell_type": "code",
      "execution_count": null,
      "metadata": {
        "colab": {
          "base_uri": "https://localhost:8080/"
        },
        "id": "Pa9buhquGMgm",
        "outputId": "2e348ce7-51af-412f-ad6b-989f2d5b47dd"
      },
      "outputs": [
        {
          "name": "stdout",
          "output_type": "stream",
          "text": [
            "Mounted at /content/drive\n"
          ]
        }
      ],
      "source": [
        "from google.colab import drive\n",
        "drive.mount('/content/drive')"
      ]
    },
    {
      "cell_type": "code",
      "execution_count": null,
      "metadata": {
        "id": "VZ-JuC6f0WH0"
      },
      "outputs": [],
      "source": [
        "!cp -r \"video_frames\" \"/content/drive/MyDrive/CS180_Final_Project\""
      ]
    },
    {
      "cell_type": "code",
      "execution_count": null,
      "metadata": {
        "id": "e2myXMry0-Qy"
      },
      "outputs": [],
      "source": [
        "file = \"box.mp4\"\n",
        "json2d = \"./data.json\"\n",
        "json3d = \"./3data.json\"\n",
        "first_frame = \"./first_frame.jpg\"\n",
        "def drawLines(first_frame):\n",
        "  with open(json2d) as f:\n",
        "          points2d = np.array([x for x in json.load(f)])\n",
        "  with open(json3d) as g:\n",
        "          points3d = json.load(g)\n",
        "  points3d = eval(points3d)\n",
        "  origin = (0,0,0)\n",
        "  yaxis = (0,6,0)\n",
        "  xaxis = (5,0,0)\n",
        "  zaxis = (0,0,2)\n",
        "\n",
        "  o = []\n",
        "  x = []\n",
        "  y = []\n",
        "  z = []\n",
        "  for i in zip(points3d, points2d):\n",
        "    if i[0] == origin:\n",
        "      o = np.array(i[1]).astype(int)\n",
        "    elif i[0] == yaxis:\n",
        "      y = np.array(i[1]).astype(int)\n",
        "    elif i[0] == xaxis:\n",
        "      x = np.array(i[1]).astype(int)\n",
        "    elif i[0] == zaxis:\n",
        "      z = np.array(i[1]).astype(int)\n",
        "  img = cv2.arrowedLine(first_frame, tuple(o), tuple(x), (255,0,0))\n",
        "  img = cv2.arrowedLine(img, tuple(o), tuple(y), (0,255,0), 5)\n",
        "  img = cv2.arrowedLine(img, tuple(o), tuple(z), (0,0,255), 5)\n",
        "  skio.imsave(\"./pose.jpg\", img)\n",
        "\n",
        "\n",
        "img = plt.imread(first_frame)\n",
        "drawLines(img)\n",
        "  #"
      ]
    },
    {
      "cell_type": "code",
      "execution_count": null,
      "metadata": {
        "id": "d-UbaWrAjEFP"
      },
      "outputs": [],
      "source": []
    }
  ],
  "metadata": {
    "colab": {
      "provenance": []
    },
    "kernelspec": {
      "display_name": "Python 3",
      "name": "python3"
    },
    "language_info": {
      "codemirror_mode": {
        "name": "ipython",
        "version": 3
      },
      "file_extension": ".py",
      "mimetype": "text/x-python",
      "name": "python",
      "nbconvert_exporter": "python",
      "pygments_lexer": "ipython3",
      "version": "3.11.5"
    }
  },
  "nbformat": 4,
  "nbformat_minor": 0
}
