{
 "cells": [
  {
   "cell_type": "code",
   "execution_count": 10,
   "metadata": {},
   "outputs": [],
   "source": [
    "import numpy as np\n",
    "import os\n",
    "import skimage as sk\n",
    "import skimage.io as skio\n",
    "import scipy.ndimage as scnd\n",
    "import matplotlib.pyplot as plt\n",
    "from skimage.transform import rescale, resize\n",
    "import cv2\n",
    "import glob\n",
    "\n",
    "\n",
    "\n"
   ]
  },
  {
   "cell_type": "code",
   "execution_count": 14,
   "metadata": {},
   "outputs": [],
   "source": [
    "def getGridImages(directory):\n",
    "    #returns a hashmap of args fo reach imagem\n",
    "    #returns an list of images\n",
    "    map = {k:[] for k in range(290)}\n",
    "    img_list = []\n",
    "    count = 0\n",
    "    for filename in os.listdir(directory):\n",
    "            file_split = filename.split(\"_\")\n",
    "            #out, y, x, v, u, extension string type\n",
    "            print(file_split)\n",
    "            y_shift = file_split[1]\n",
    "            x_shift = file_split[2]\n",
    "            img_path = directory + filename \n",
    "            img = skio.imread(img_path)/255\n",
    "            img = sk.util.img_as_float(img)\n",
    "            map[count].extend([y_shift, x_shift])\n",
    "            img_list.append(img)\n",
    "            count += 1\n",
    "    return np.array(img_list), map"
   ]
  },
  {
   "cell_type": "code",
   "execution_count": 20,
   "metadata": {},
   "outputs": [
    {
     "name": "stdout",
     "output_type": "stream",
     "text": [
      "['out', '0', '0', '.jpg']\n",
      "['out', '0', '1', '.jpg']\n",
      "['out', '0', '2', '.jpg']\n",
      "['out', '0', '3', '.jpg']\n",
      "['out', '1', '0', '.jpg']\n",
      "['out', '1', '1', '.jpg']\n",
      "['out', '1', '2', '.jpg']\n",
      "['out', '1', '3', '.jpg']\n",
      "['out', '2', '0', '.jpg']\n",
      "['out', '2', '1', '.jpg']\n",
      "['out', '2', '2', '.jpg']\n",
      "['out', '2', '3', '.jpg']\n",
      "['out', '3', '0', '.jpg']\n",
      "['out', '3', '1', '.jpg']\n",
      "['out', '3', '2', '.jpg']\n",
      "['out', '3', '3', '.jpg']\n"
     ]
    }
   ],
   "source": [
    "#directories, scale range\n",
    "argmap = {\"chess\": [\"./chessboard/\", \"./output_images/chessboard/\", [-4, 3]],\n",
    "           \"bracelet\": [\"./bracelet/\", \"./output_images/bracelet/\", [-4,3]],\n",
    "           \"flower\": [\"./flower/\", \"./output_images/flower/\", [-4,3]],\n",
    "           \"beans\": [\"./beans/\", \"./output_images/beans/\", [-6,3]],\n",
    "           \"bottle\": [\"./bottle/\", \"./output_images/bottle/\", [-4,3]]}\n",
    "\n",
    "arg = \"bottle\"\n",
    "\n",
    "directory = argmap[arg][0]\n",
    "out_directory = argmap[arg][1]\n",
    "scale_start = argmap[arg][2][0]\n",
    "scale_end = argmap[arg][2][1]\n",
    "\n",
    "\n",
    "img_list, map = getGridImages(directory)       \n",
    "    "
   ]
  },
  {
   "cell_type": "code",
   "execution_count": 16,
   "metadata": {},
   "outputs": [
    {
     "name": "stdout",
     "output_type": "stream",
     "text": [
      "done\n",
      "done\n",
      "done\n",
      "done\n",
      "done\n",
      "done\n",
      "done\n",
      "done\n",
      "done\n",
      "done\n",
      "done\n",
      "done\n",
      "done\n",
      "done\n",
      "done\n",
      "done\n",
      "done\n",
      "done\n",
      "done\n",
      "done\n",
      "done\n",
      "done\n",
      "done\n",
      "done\n",
      "done\n",
      "done\n",
      "done\n",
      "done\n",
      "done\n",
      "done\n",
      "done\n",
      "done\n",
      "done\n",
      "done\n",
      "done\n"
     ]
    }
   ],
   "source": [
    "#CITATION: https://stackoverflow.com/questions/2777907/python-numpy-roll-with-padding\n",
    "def depth_refocus_grid(img_list, shiftmap, alpha , out_directory, id, center = 8, both = False):\n",
    "    shifted_imgs = []\n",
    "    for i in range(len(img_list)):\n",
    "        y_offset = int((center - int(shiftmap [i][0]))*alpha)\n",
    "        x_offset = int((center - int(shiftmap [i][1]))*alpha)\n",
    "        img = img_list[i]\n",
    "        if both:\n",
    "            img = np.roll(img, [-y_offset, -x_offset] , axis = (0, 1)) \n",
    "        else:\n",
    "            img = np.roll(img, [y_offset, -x_offset] , axis = (0, 1)) \n",
    "        shifted_imgs.append(img)\n",
    "    print(\"done\")\n",
    "    processed_image = np.mean(shifted_imgs, axis = 0)\n",
    "    processed_image = sk.util.img_as_ubyte(processed_image)\n",
    "    skio.imsave(out_directory + \"/refocus/{scale}.png\".format(scale = id), processed_image)\n",
    "        \n",
    "\n",
    "id = 0\n",
    "for alpha in np.arange(scale_start, scale_end, 0.2):\n",
    "    depth_refocus_grid(img_list, map, alpha, out_directory, id)\n",
    "    id += 1\n",
    "\n"
   ]
  },
  {
   "cell_type": "code",
   "execution_count": 24,
   "metadata": {},
   "outputs": [],
   "source": [
    "def aperture_readjustment(img_list, shiftmap, radius, id, center = 2):\n",
    "    #select images that are all within a the given radius\n",
    "    passed_imgs = []\n",
    "    for i in range(len(img_list)):\n",
    "        y_within_r = np.abs(int(center - int(shiftmap [i][0]))) <= radius\n",
    "        x_within_r= np.abs(int(center - int(shiftmap [i][1]))) <= radius\n",
    "        img = img_list[i]\n",
    "        if y_within_r and x_within_r:\n",
    "            passed_imgs.append(img)\n",
    "    processed_image = np.mean(passed_imgs, axis = 0)\n",
    "    processed_image = sk.util.img_as_ubyte(processed_image)\n",
    "    skio.imsave(out_directory + \"/aperture/{scale}.png\".format(scale = id), processed_image)\n",
    "\n",
    "id = 0\n",
    "for radius in range(0,9):\n",
    "    radius = int(radius)\n",
    "    aperture_readjustment(img_list, map, radius, id)\n",
    "    id+= 1\n",
    "\n",
    "\n",
    "    \n",
    "        "
   ]
  },
  {
   "cell_type": "code",
   "execution_count": 28,
   "metadata": {},
   "outputs": [],
   "source": [
    "img_array = []\n",
    "for filename in range(35):\n",
    "   img = cv2.imread(\"./output_images/bottle/refocus/\" + str(filename) + \".png\")\n",
    "   height, width, layers = img.shape\n",
    "   size = (width,height)\n",
    "   img_array.append(img)\n",
    "\n",
    "out = cv2.VideoWriter('bottle.avi',cv2.VideoWriter_fourcc(*'DIVX'), 15, size)\n",
    "\n",
    "for i in range(len(img_array)):\n",
    "   out.write(img_array[i])\n",
    "out.release()"
   ]
  }
 ],
 "metadata": {
  "kernelspec": {
   "display_name": "Python 3",
   "language": "python",
   "name": "python3"
  },
  "language_info": {
   "codemirror_mode": {
    "name": "ipython",
    "version": 3
   },
   "file_extension": ".py",
   "mimetype": "text/x-python",
   "name": "python",
   "nbconvert_exporter": "python",
   "pygments_lexer": "ipython3",
   "version": "3.11.5"
  }
 },
 "nbformat": 4,
 "nbformat_minor": 2
}
